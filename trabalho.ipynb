{
 "cells": [
  {
   "cell_type": "code",
   "execution_count": 1,
   "metadata": {
    "collapsed": true
   },
   "outputs": [
    {
     "ename": "NameError",
     "evalue": "name 'pd' is not defined",
     "output_type": "error",
     "traceback": [
      "\u001B[1;31m---------------------------------------------------------------------------\u001B[0m",
      "\u001B[1;31mNameError\u001B[0m                                 Traceback (most recent call last)",
      "Cell \u001B[1;32mIn[1], line 1\u001B[0m\n\u001B[1;32m----> 1\u001B[0m df \u001B[38;5;241m=\u001B[39m \u001B[43mpd\u001B[49m\u001B[38;5;241m.\u001B[39mread_json(\u001B[38;5;124m'\u001B[39m\u001B[38;5;124mmovies.json\u001B[39m\u001B[38;5;124m'\u001B[39m)\n",
      "\u001B[1;31mNameError\u001B[0m: name 'pd' is not defined"
     ]
    }
   ],
   "source": [
    "df = pd.read_json('movies.json')"
   ]
  },
  {
   "cell_type": "code",
   "execution_count": 6,
   "outputs": [
    {
     "data": {
      "text/plain": "                                               title  criticScore  year   \n0                                      The Godfather           10  1972  \\\n1                           The Shawshank Redemption           81  1994   \n2                                    The Dark Knight           84  2008   \n3  The Lord of the Rings: The Fellowship of the Ring           92  2001   \n4                                       Pulp Fiction           94  1994   \n\n                 director        releaseDate     genres   \n0  [Francis Ford Coppola]     March 24, 1972    [Crime]  \\\n1        [Frank Darabont]  September 1, 1994    [Crime]   \n2     [Christopher Nolan]      July 18, 2008    [Crime]   \n3         [Peter Jackson]  December 19, 2001  [Fantasy]   \n4     [Quentin Tarantino]   October 14, 1994    [Crime]   \n\n                                               cast rating  runtime   \n0                        [Al Pacino, Marlon Brando]      R  175 min  \\\n1                     [Morgan Freeman, Tim Robbins]      R  142 min   \n2     [Aaron Eckhart, Christian Bale, Heath Ledger]  PG-13  152 min   \n3                        [Andy Serkis, Elijah Wood]  PG-13  178 min   \n4  [Bruce Willis, John Travolta, Samuel L. Jackson]      R  154 min   \n\n                                             summary  numOfCriticReviews  \n0  Francis Ford Coppola's epic features Marlon Br...                  16  \n1  Wrongly convicted, Andy Dufresne (Tim Robbins)...                  21  \n2  Batman raises the stakes in his war on crime. ...                  39  \n3                                                                     34  \n4                                                                     24  ",
      "text/html": "<div>\n<style scoped>\n    .dataframe tbody tr th:only-of-type {\n        vertical-align: middle;\n    }\n\n    .dataframe tbody tr th {\n        vertical-align: top;\n    }\n\n    .dataframe thead th {\n        text-align: right;\n    }\n</style>\n<table border=\"1\" class=\"dataframe\">\n  <thead>\n    <tr style=\"text-align: right;\">\n      <th></th>\n      <th>title</th>\n      <th>criticScore</th>\n      <th>year</th>\n      <th>director</th>\n      <th>releaseDate</th>\n      <th>genres</th>\n      <th>cast</th>\n      <th>rating</th>\n      <th>runtime</th>\n      <th>summary</th>\n      <th>numOfCriticReviews</th>\n    </tr>\n  </thead>\n  <tbody>\n    <tr>\n      <th>0</th>\n      <td>The Godfather</td>\n      <td>10</td>\n      <td>1972</td>\n      <td>[Francis Ford Coppola]</td>\n      <td>March 24, 1972</td>\n      <td>[Crime]</td>\n      <td>[Al Pacino, Marlon Brando]</td>\n      <td>R</td>\n      <td>175 min</td>\n      <td>Francis Ford Coppola's epic features Marlon Br...</td>\n      <td>16</td>\n    </tr>\n    <tr>\n      <th>1</th>\n      <td>The Shawshank Redemption</td>\n      <td>81</td>\n      <td>1994</td>\n      <td>[Frank Darabont]</td>\n      <td>September 1, 1994</td>\n      <td>[Crime]</td>\n      <td>[Morgan Freeman, Tim Robbins]</td>\n      <td>R</td>\n      <td>142 min</td>\n      <td>Wrongly convicted, Andy Dufresne (Tim Robbins)...</td>\n      <td>21</td>\n    </tr>\n    <tr>\n      <th>2</th>\n      <td>The Dark Knight</td>\n      <td>84</td>\n      <td>2008</td>\n      <td>[Christopher Nolan]</td>\n      <td>July 18, 2008</td>\n      <td>[Crime]</td>\n      <td>[Aaron Eckhart, Christian Bale, Heath Ledger]</td>\n      <td>PG-13</td>\n      <td>152 min</td>\n      <td>Batman raises the stakes in his war on crime. ...</td>\n      <td>39</td>\n    </tr>\n    <tr>\n      <th>3</th>\n      <td>The Lord of the Rings: The Fellowship of the Ring</td>\n      <td>92</td>\n      <td>2001</td>\n      <td>[Peter Jackson]</td>\n      <td>December 19, 2001</td>\n      <td>[Fantasy]</td>\n      <td>[Andy Serkis, Elijah Wood]</td>\n      <td>PG-13</td>\n      <td>178 min</td>\n      <td></td>\n      <td>34</td>\n    </tr>\n    <tr>\n      <th>4</th>\n      <td>Pulp Fiction</td>\n      <td>94</td>\n      <td>1994</td>\n      <td>[Quentin Tarantino]</td>\n      <td>October 14, 1994</td>\n      <td>[Crime]</td>\n      <td>[Bruce Willis, John Travolta, Samuel L. Jackson]</td>\n      <td>R</td>\n      <td>154 min</td>\n      <td></td>\n      <td>24</td>\n    </tr>\n  </tbody>\n</table>\n</div>"
     },
     "execution_count": 6,
     "metadata": {},
     "output_type": "execute_result"
    }
   ],
   "source": [
    "import json\n",
    "import pandas as pd\n",
    "\n",
    "#Ler e Normalizar Filmes\n",
    "filename_movies = r'movies.json'\n",
    "with open(filename_movies, 'r') as file:\n",
    "    data = json.load(file)\n",
    "\n",
    "movie_data = [movie['data']['movie'] for movie in data.values()]\n",
    "\n",
    "flat_data_movies = pd.json_normalize(movie_data)\n",
    "\n",
    "flat_data_movies.head()"
   ],
   "metadata": {
    "collapsed": false
   }
  },
  {
   "cell_type": "code",
   "execution_count": 10,
   "outputs": [
    {
     "data": {
      "text/plain": "                                               album         artist   \n0          Rumours [35th Anniversary Deluxe Edition]  Fleetwood Mac  \\\n1  Appetite for Destruction: Super Deluxe Edition...  Guns N' Roses   \n2  The Joshua Tree [30th Anniversary Super Deluxe...             U2   \n3                                                 21          Adele   \n4                                    The Eminem Show         Eminem   \n\n    releaseDate  criticScore   publisher   \n0  Jan 29, 2013           99       Rhino  \\\n1  Jun 29, 2018           95      Geffen   \n2  Jun  2, 2017           90      Island   \n3  Feb 22, 2011           76          XL   \n4  May 28, 2002           75  Interscope   \n\n                                              genres  numOfCriticReviews   \n0                                                 []                  11  \\\n1                                              [Pop]                  10   \n2                                         [Pop/Rock]                   5   \n3  [R&B, Soul, Pop/Rock, Adult Alternative Pop/Ro...                  34   \n4                                              [Rap]                  20   \n\n   numOfPositiveCriticReviews  numOfMixedCriticReviews   \n0                          11                        0  \\\n1                          10                        0   \n2                           5                        0   \n3                          26                        8   \n4                          15                        4   \n\n   numOfNegativeCriticReviews   \n0                           0  \\\n1                           0   \n2                           0   \n3                           0   \n4                           1   \n\n                                        productImage  \n0  https://static.metacritic.com/images/products/...  \n1  https://static.metacritic.com/images/products/...  \n2  https://static.metacritic.com/images/products/...  \n3  https://static.metacritic.com/images/products/...  \n4  https://static.metacritic.com/images/products/...  ",
      "text/html": "<div>\n<style scoped>\n    .dataframe tbody tr th:only-of-type {\n        vertical-align: middle;\n    }\n\n    .dataframe tbody tr th {\n        vertical-align: top;\n    }\n\n    .dataframe thead th {\n        text-align: right;\n    }\n</style>\n<table border=\"1\" class=\"dataframe\">\n  <thead>\n    <tr style=\"text-align: right;\">\n      <th></th>\n      <th>album</th>\n      <th>artist</th>\n      <th>releaseDate</th>\n      <th>criticScore</th>\n      <th>publisher</th>\n      <th>genres</th>\n      <th>numOfCriticReviews</th>\n      <th>numOfPositiveCriticReviews</th>\n      <th>numOfMixedCriticReviews</th>\n      <th>numOfNegativeCriticReviews</th>\n      <th>productImage</th>\n    </tr>\n  </thead>\n  <tbody>\n    <tr>\n      <th>0</th>\n      <td>Rumours [35th Anniversary Deluxe Edition]</td>\n      <td>Fleetwood Mac</td>\n      <td>Jan 29, 2013</td>\n      <td>99</td>\n      <td>Rhino</td>\n      <td>[]</td>\n      <td>11</td>\n      <td>11</td>\n      <td>0</td>\n      <td>0</td>\n      <td>https://static.metacritic.com/images/products/...</td>\n    </tr>\n    <tr>\n      <th>1</th>\n      <td>Appetite for Destruction: Super Deluxe Edition...</td>\n      <td>Guns N' Roses</td>\n      <td>Jun 29, 2018</td>\n      <td>95</td>\n      <td>Geffen</td>\n      <td>[Pop]</td>\n      <td>10</td>\n      <td>10</td>\n      <td>0</td>\n      <td>0</td>\n      <td>https://static.metacritic.com/images/products/...</td>\n    </tr>\n    <tr>\n      <th>2</th>\n      <td>The Joshua Tree [30th Anniversary Super Deluxe...</td>\n      <td>U2</td>\n      <td>Jun  2, 2017</td>\n      <td>90</td>\n      <td>Island</td>\n      <td>[Pop/Rock]</td>\n      <td>5</td>\n      <td>5</td>\n      <td>0</td>\n      <td>0</td>\n      <td>https://static.metacritic.com/images/products/...</td>\n    </tr>\n    <tr>\n      <th>3</th>\n      <td>21</td>\n      <td>Adele</td>\n      <td>Feb 22, 2011</td>\n      <td>76</td>\n      <td>XL</td>\n      <td>[R&amp;B, Soul, Pop/Rock, Adult Alternative Pop/Ro...</td>\n      <td>34</td>\n      <td>26</td>\n      <td>8</td>\n      <td>0</td>\n      <td>https://static.metacritic.com/images/products/...</td>\n    </tr>\n    <tr>\n      <th>4</th>\n      <td>The Eminem Show</td>\n      <td>Eminem</td>\n      <td>May 28, 2002</td>\n      <td>75</td>\n      <td>Interscope</td>\n      <td>[Rap]</td>\n      <td>20</td>\n      <td>15</td>\n      <td>4</td>\n      <td>1</td>\n      <td>https://static.metacritic.com/images/products/...</td>\n    </tr>\n  </tbody>\n</table>\n</div>"
     },
     "execution_count": 10,
     "metadata": {},
     "output_type": "execute_result"
    }
   ],
   "source": [
    "import json\n",
    "import pandas as pd\n",
    "\n",
    "filename_albums = r'albums.json'\n",
    "with open(filename_albums, 'r') as file:\n",
    "    data = json.load(file)\n",
    "\n",
    "album_data = [album['data']['album'] for album in data.values()]\n",
    "\n",
    "flat_data_albums = pd.json_normalize(album_data)\n",
    "\n",
    "flat_data_albums.head()"
   ],
   "metadata": {
    "collapsed": false
   }
  },
  {
   "cell_type": "code",
   "execution_count": 11,
   "outputs": [
    {
     "data": {
      "text/plain": "                 title season  criticScore        releaseDate   \n0      Game of Thrones    all           86     April 17, 2011  \\\n1     The Walking Dead    all           79   October 31, 2010   \n2  The Handmaid's Tale    all           84     April 26, 2017   \n3               Dexter    all           76    October 1, 2006   \n4         The Simpsons    all           87  December 17, 1989   \n\n              genres                                            summary   \n0          [Fantasy]  Adapted from George R.R. Martin's epic fantasy...  \\\n1  [Science Fiction]  Based on a comic book series of the same name ...   \n2  [Science Fiction]  Based on Margaret Atwood’s best-selling novel,...   \n3         [Suspense]  Based on Jeff Lindsay's novels Darkly Dreaming...   \n4        [Animation]  Originally created by cartoonist Matt Groening...   \n\n   numOfCriticReviews  numOfPositiveCriticReviews  numOfMixedCriticReviews   \n0                 171                         159                       11  \\\n1                 115                         100                       14   \n2                  90                          80                       10   \n3                 103                          88                       14   \n4                  16                          15                        1   \n\n   numOfNegativeCriticReviews   \n0                           1  \\\n1                           1   \n2                           0   \n3                           1   \n4                           0   \n\n                                        productImage  \n0  https://static.metacritic.com/images/products/...  \n1  https://static.metacritic.com/images/products/...  \n2  https://static.metacritic.com/images/products/...  \n3  https://static.metacritic.com/images/products/...  \n4  https://static.metacritic.com/images/products/...  ",
      "text/html": "<div>\n<style scoped>\n    .dataframe tbody tr th:only-of-type {\n        vertical-align: middle;\n    }\n\n    .dataframe tbody tr th {\n        vertical-align: top;\n    }\n\n    .dataframe thead th {\n        text-align: right;\n    }\n</style>\n<table border=\"1\" class=\"dataframe\">\n  <thead>\n    <tr style=\"text-align: right;\">\n      <th></th>\n      <th>title</th>\n      <th>season</th>\n      <th>criticScore</th>\n      <th>releaseDate</th>\n      <th>genres</th>\n      <th>summary</th>\n      <th>numOfCriticReviews</th>\n      <th>numOfPositiveCriticReviews</th>\n      <th>numOfMixedCriticReviews</th>\n      <th>numOfNegativeCriticReviews</th>\n      <th>productImage</th>\n    </tr>\n  </thead>\n  <tbody>\n    <tr>\n      <th>0</th>\n      <td>Game of Thrones</td>\n      <td>all</td>\n      <td>86</td>\n      <td>April 17, 2011</td>\n      <td>[Fantasy]</td>\n      <td>Adapted from George R.R. Martin's epic fantasy...</td>\n      <td>171</td>\n      <td>159</td>\n      <td>11</td>\n      <td>1</td>\n      <td>https://static.metacritic.com/images/products/...</td>\n    </tr>\n    <tr>\n      <th>1</th>\n      <td>The Walking Dead</td>\n      <td>all</td>\n      <td>79</td>\n      <td>October 31, 2010</td>\n      <td>[Science Fiction]</td>\n      <td>Based on a comic book series of the same name ...</td>\n      <td>115</td>\n      <td>100</td>\n      <td>14</td>\n      <td>1</td>\n      <td>https://static.metacritic.com/images/products/...</td>\n    </tr>\n    <tr>\n      <th>2</th>\n      <td>The Handmaid's Tale</td>\n      <td>all</td>\n      <td>84</td>\n      <td>April 26, 2017</td>\n      <td>[Science Fiction]</td>\n      <td>Based on Margaret Atwood’s best-selling novel,...</td>\n      <td>90</td>\n      <td>80</td>\n      <td>10</td>\n      <td>0</td>\n      <td>https://static.metacritic.com/images/products/...</td>\n    </tr>\n    <tr>\n      <th>3</th>\n      <td>Dexter</td>\n      <td>all</td>\n      <td>76</td>\n      <td>October 1, 2006</td>\n      <td>[Suspense]</td>\n      <td>Based on Jeff Lindsay's novels Darkly Dreaming...</td>\n      <td>103</td>\n      <td>88</td>\n      <td>14</td>\n      <td>1</td>\n      <td>https://static.metacritic.com/images/products/...</td>\n    </tr>\n    <tr>\n      <th>4</th>\n      <td>The Simpsons</td>\n      <td>all</td>\n      <td>87</td>\n      <td>December 17, 1989</td>\n      <td>[Animation]</td>\n      <td>Originally created by cartoonist Matt Groening...</td>\n      <td>16</td>\n      <td>15</td>\n      <td>1</td>\n      <td>0</td>\n      <td>https://static.metacritic.com/images/products/...</td>\n    </tr>\n  </tbody>\n</table>\n</div>"
     },
     "execution_count": 11,
     "metadata": {},
     "output_type": "execute_result"
    }
   ],
   "source": [
    "import json\n",
    "import pandas as pd\n",
    "\n",
    "filename_tvshows = r'tvshows.json'\n",
    "with open(filename_tvshows, 'r') as file:\n",
    "    data = json.load(file)\n",
    "\n",
    "tvshow_data = [tvshow['data']['tvshow'] for tvshow in data.values()]\n",
    "\n",
    "flat_data_tvshows = pd.json_normalize(tvshow_data)\n",
    "\n",
    "flat_data_tvshows.head()"
   ],
   "metadata": {
    "collapsed": false
   }
  },
  {
   "cell_type": "code",
   "execution_count": 12,
   "outputs": [
    {
     "name": "stdout",
     "output_type": "stream",
     "text": [
      "                                    data.movie.title data.movie.criticScore   \n",
      "0                                      The Godfather                   10.0  \\\n",
      "1                           The Shawshank Redemption                   81.0   \n",
      "2                                    The Dark Knight                   84.0   \n",
      "3  The Lord of the Rings: The Fellowship of the Ring                   92.0   \n",
      "4                                       Pulp Fiction                   94.0   \n",
      "\n",
      "  data.movie.year     data.movie.director data.movie.releaseDate   \n",
      "0            1972  [Francis Ford Coppola]         March 24, 1972  \\\n",
      "1            1994        [Frank Darabont]      September 1, 1994   \n",
      "2            2008     [Christopher Nolan]          July 18, 2008   \n",
      "3            2001         [Peter Jackson]      December 19, 2001   \n",
      "4            1994     [Quentin Tarantino]       October 14, 1994   \n",
      "\n",
      "  data.movie.genres                                   data.movie.cast   \n",
      "0           [Crime]                        [Al Pacino, Marlon Brando]  \\\n",
      "1           [Crime]                     [Morgan Freeman, Tim Robbins]   \n",
      "2           [Crime]     [Aaron Eckhart, Christian Bale, Heath Ledger]   \n",
      "3         [Fantasy]                        [Andy Serkis, Elijah Wood]   \n",
      "4           [Crime]  [Bruce Willis, John Travolta, Samuel L. Jackson]   \n",
      "\n",
      "  data.movie.rating data.movie.runtime   \n",
      "0                 R            175 min  \\\n",
      "1                 R            142 min   \n",
      "2             PG-13            152 min   \n",
      "3             PG-13            178 min   \n",
      "4                 R            154 min   \n",
      "\n",
      "                                  data.movie.summary  ... data.tvshow.season   \n",
      "0  Francis Ford Coppola's epic features Marlon Br...  ...                 NA  \\\n",
      "1  Wrongly convicted, Andy Dufresne (Tim Robbins)...  ...                 NA   \n",
      "2  Batman raises the stakes in his war on crime. ...  ...                 NA   \n",
      "3                                                     ...                 NA   \n",
      "4                                                     ...                 NA   \n",
      "\n",
      "  data.tvshow.criticScore data.tvshow.releaseDate data.tvshow.genres   \n",
      "0                      NA                      NA                 NA  \\\n",
      "1                      NA                      NA                 NA   \n",
      "2                      NA                      NA                 NA   \n",
      "3                      NA                      NA                 NA   \n",
      "4                      NA                      NA                 NA   \n",
      "\n",
      "  data.tvshow.summary data.tvshow.numOfCriticReviews   \n",
      "0                  NA                             NA  \\\n",
      "1                  NA                             NA   \n",
      "2                  NA                             NA   \n",
      "3                  NA                             NA   \n",
      "4                  NA                             NA   \n",
      "\n",
      "  data.tvshow.numOfPositiveCriticReviews data.tvshow.numOfMixedCriticReviews   \n",
      "0                                     NA                                  NA  \\\n",
      "1                                     NA                                  NA   \n",
      "2                                     NA                                  NA   \n",
      "3                                     NA                                  NA   \n",
      "4                                     NA                                  NA   \n",
      "\n",
      "  data.tvshow.numOfNegativeCriticReviews data.tvshow.productImage  \n",
      "0                                     NA                       NA  \n",
      "1                                     NA                       NA  \n",
      "2                                     NA                       NA  \n",
      "3                                     NA                       NA  \n",
      "4                                     NA                       NA  \n",
      "\n",
      "[5 rows x 33 columns]\n",
      "<class 'pandas.core.frame.DataFrame'>\n",
      "RangeIndex: 31 entries, 0 to 30\n",
      "Data columns (total 33 columns):\n",
      " #   Column                                  Non-Null Count  Dtype \n",
      "---  ------                                  --------------  ----- \n",
      " 0   data.movie.title                        31 non-null     object\n",
      " 1   data.movie.criticScore                  31 non-null     object\n",
      " 2   data.movie.year                         31 non-null     object\n",
      " 3   data.movie.director                     31 non-null     object\n",
      " 4   data.movie.releaseDate                  31 non-null     object\n",
      " 5   data.movie.genres                       31 non-null     object\n",
      " 6   data.movie.cast                         31 non-null     object\n",
      " 7   data.movie.rating                       31 non-null     object\n",
      " 8   data.movie.runtime                      31 non-null     object\n",
      " 9   data.movie.summary                      31 non-null     object\n",
      " 10  data.movie.numOfCriticReviews           31 non-null     object\n",
      " 11  data.album.album                        31 non-null     object\n",
      " 12  data.album.artist                       31 non-null     object\n",
      " 13  data.album.releaseDate                  31 non-null     object\n",
      " 14  data.album.criticScore                  31 non-null     object\n",
      " 15  data.album.publisher                    31 non-null     object\n",
      " 16  data.album.genres                       31 non-null     object\n",
      " 17  data.album.numOfCriticReviews           31 non-null     object\n",
      " 18  data.album.numOfPositiveCriticReviews   31 non-null     object\n",
      " 19  data.album.numOfMixedCriticReviews      31 non-null     object\n",
      " 20  data.album.numOfNegativeCriticReviews   31 non-null     object\n",
      " 21  data.album.productImage                 31 non-null     object\n",
      " 22  data.tvshow.title                       31 non-null     object\n",
      " 23  data.tvshow.season                      31 non-null     object\n",
      " 24  data.tvshow.criticScore                 31 non-null     object\n",
      " 25  data.tvshow.releaseDate                 31 non-null     object\n",
      " 26  data.tvshow.genres                      31 non-null     object\n",
      " 27  data.tvshow.summary                     31 non-null     object\n",
      " 28  data.tvshow.numOfCriticReviews          31 non-null     object\n",
      " 29  data.tvshow.numOfPositiveCriticReviews  31 non-null     object\n",
      " 30  data.tvshow.numOfMixedCriticReviews     31 non-null     object\n",
      " 31  data.tvshow.numOfNegativeCriticReviews  31 non-null     object\n",
      " 32  data.tvshow.productImage                31 non-null     object\n",
      "dtypes: object(33)\n",
      "memory usage: 8.1+ KB\n",
      "None\n",
      "       data.movie.title data.movie.criticScore data.movie.year   \n",
      "count                31                     31              31  \\\n",
      "unique                8                      8               6   \n",
      "top                  NA                     NA              NA   \n",
      "freq                 24                     24              24   \n",
      "\n",
      "       data.movie.director data.movie.releaseDate data.movie.genres   \n",
      "count                   31                     31                31  \\\n",
      "unique                   8                      8                 4   \n",
      "top                     NA                     NA                NA   \n",
      "freq                    24                     24                24   \n",
      "\n",
      "       data.movie.cast data.movie.rating data.movie.runtime   \n",
      "count               31                31                 31  \\\n",
      "unique               8                 4                  7   \n",
      "top                 NA                NA                 NA   \n",
      "freq                24                24                 24   \n",
      "\n",
      "       data.movie.summary  ... data.tvshow.season data.tvshow.criticScore   \n",
      "count                  31  ...                 31                      31  \\\n",
      "unique                  6  ...                  2                      10   \n",
      "top                    NA  ...                 NA                      NA   \n",
      "freq                   24  ...                 22                      22   \n",
      "\n",
      "       data.tvshow.releaseDate data.tvshow.genres data.tvshow.summary   \n",
      "count                       31                 31                  31  \\\n",
      "unique                      10                  7                  10   \n",
      "top                         NA                 NA                  NA   \n",
      "freq                        22                 22                  22   \n",
      "\n",
      "       data.tvshow.numOfCriticReviews data.tvshow.numOfPositiveCriticReviews   \n",
      "count                              31                                     31  \\\n",
      "unique                              9                                     10   \n",
      "top                                NA                                     NA   \n",
      "freq                               22                                     22   \n",
      "\n",
      "       data.tvshow.numOfMixedCriticReviews   \n",
      "count                                   31  \\\n",
      "unique                                   8   \n",
      "top                                     NA   \n",
      "freq                                    22   \n",
      "\n",
      "       data.tvshow.numOfNegativeCriticReviews data.tvshow.productImage  \n",
      "count                                      31                       31  \n",
      "unique                                      3                       10  \n",
      "top                                        NA                       NA  \n",
      "freq                                       22                       22  \n",
      "\n",
      "[4 rows x 33 columns]\n"
     ]
    }
   ],
   "source": [
    "import pandas as pd\n",
    "import json\n",
    "\n",
    "# Load the json files\n",
    "with open('movies.json', 'r') as movies_file:\n",
    "    movies_data = json.load(movies_file)\n",
    "with open('albums.json', 'r') as albums_file:\n",
    "    albums_data = json.load(albums_file)\n",
    "with open('tvshows.json', 'r') as tvshows_file:\n",
    "    tvshows_data = json.load(tvshows_file)\n",
    "# Convert dictionaries to pandas DataFrames\n",
    "movies_df = pd.json_normalize(movies_data.values())\n",
    "albums_df = pd.json_normalize(albums_data.values())\n",
    "tvshows_df = pd.json_normalize(tvshows_data.values())\n",
    "\n",
    "# Ensure columns are named correctly\n",
    "movies_df.rename(columns={'title': 'Title', 'criticScore': 'Critic Score', 'releaseDate': 'Release Date', 'genres': 'Genres', 'numOfCriticReviews': 'Number of Critic Reviews'}, inplace=True)\n",
    "albums_df.rename(columns={'album': 'Title', 'criticScore': 'Critic Score', 'releaseDate': 'Release Date', 'genres': 'Genres', 'numOfCriticReviews': 'Number of Critic Reviews'}, inplace=True)\n",
    "tvshows_df.rename(columns={'title': 'Title', 'criticScore': 'Critic Score', 'releaseDate': 'Release Date', 'genres': 'Genres', 'numOfCriticReviews': 'Number of Critic Reviews'}, inplace=True)\n",
    "\n",
    "# Concatenate the datasets\n",
    "merged_df = pd.concat([movies_df, albums_df, tvshows_df], axis=0, ignore_index=True)\n",
    "\n",
    "# Handle missing values (NaNs)\n",
    "merged_df.fillna('NA', inplace=True)\n",
    "\n",
    "\n",
    "# Print the first few rows of the merged DataFrame\n",
    "print(merged_df.head())\n",
    "\n",
    "# Print information about the merged DataFrame\n",
    "print(merged_df.info())\n",
    "\n",
    "# Print summary statistics of the merged DataFrame\n",
    "print(merged_df.describe())\n"
   ],
   "metadata": {
    "collapsed": false
   }
  },
  {
   "cell_type": "code",
   "execution_count": null,
   "outputs": [],
   "source": [],
   "metadata": {
    "collapsed": false
   }
  }
 ],
 "metadata": {
  "kernelspec": {
   "display_name": "Python 3",
   "language": "python",
   "name": "python3"
  },
  "language_info": {
   "codemirror_mode": {
    "name": "ipython",
    "version": 2
   },
   "file_extension": ".py",
   "mimetype": "text/x-python",
   "name": "python",
   "nbconvert_exporter": "python",
   "pygments_lexer": "ipython2",
   "version": "2.7.6"
  }
 },
 "nbformat": 4,
 "nbformat_minor": 0
}
